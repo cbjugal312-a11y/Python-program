{
 "cells": [
  {
   "cell_type": "markdown",
   "id": "ca5621d4-6342-4176-a9d9-66ef7b1e7005",
   "metadata": {},
   "source": [
    "#### Dictionaries - Exercises"
   ]
  },
  {
   "cell_type": "code",
   "execution_count": null,
   "id": "532cece2-c933-43e5-a08d-009113e17b3b",
   "metadata": {},
   "outputs": [],
   "source": [
    "# 1. Create an empty dictionary called dogs "
   ]
  },
  {
   "cell_type": "code",
   "execution_count": null,
   "id": "b5f1e41e-5a37-4334-8c7a-b02e6cfc2e48",
   "metadata": {},
   "outputs": [],
   "source": [
    "# 2. Add name, color, breed, legs, age to the dog dictionary "
   ]
  },
  {
   "cell_type": "code",
   "execution_count": null,
   "id": "8bdbb97f-ec52-4d94-9142-6900bc9a948f",
   "metadata": {},
   "outputs": [],
   "source": [
    "# 3. Create a student dictionary and add first_name, last_name, gender, age, \n",
    "    # marital status, skills, country, city and address as keys for the dictionary "
   ]
  },
  {
   "cell_type": "code",
   "execution_count": null,
   "id": "b49fcafb-8a26-401f-8cfe-978eca7fd83e",
   "metadata": {},
   "outputs": [],
   "source": [
    "# 4. Get the length of the student dictionary "
   ]
  },
  {
   "cell_type": "code",
   "execution_count": null,
   "id": "72fa5725-2459-42e8-ac03-606aa5d8f7af",
   "metadata": {},
   "outputs": [],
   "source": [
    "# 5. Get the value of skills and check the data type, it should be a list "
   ]
  },
  {
   "cell_type": "code",
   "execution_count": null,
   "id": "e8ea173a-50cc-4e57-b56e-9f0081cde762",
   "metadata": {},
   "outputs": [],
   "source": [
    "# 6. Modify the skills values by adding one or two skills "
   ]
  },
  {
   "cell_type": "code",
   "execution_count": null,
   "id": "66d4247d-8d74-4393-840e-dc5123f24ff6",
   "metadata": {},
   "outputs": [],
   "source": [
    "# 7. Get the dictionary keys as a list "
   ]
  },
  {
   "cell_type": "code",
   "execution_count": null,
   "id": "e173a41e-3495-4f72-89c2-160618e42ffe",
   "metadata": {},
   "outputs": [],
   "source": [
    "# 8. Get the dictionary values as a list "
   ]
  },
  {
   "cell_type": "code",
   "execution_count": null,
   "id": "23aa404e-953a-4b01-8646-ab7428daa746",
   "metadata": {},
   "outputs": [],
   "source": [
    "# 9. Change the dictionary to a list of tuples using items() method "
   ]
  },
  {
   "cell_type": "code",
   "execution_count": null,
   "id": "e4c3a0a9-c9d8-4ad8-9e9e-f61b92d06952",
   "metadata": {},
   "outputs": [],
   "source": [
    "# 10. Delete one of the items in the dictionary "
   ]
  },
  {
   "cell_type": "code",
   "execution_count": null,
   "id": "e868f738-ca08-47cb-90db-6284f2e05c42",
   "metadata": {},
   "outputs": [],
   "source": [
    "# 11. Delete one of the dictionaries"
   ]
  }
 ],
 "metadata": {
  "kernelspec": {
   "display_name": "Python 3 (ipykernel)",
   "language": "python",
   "name": "python3"
  },
  "language_info": {
   "codemirror_mode": {
    "name": "ipython",
    "version": 3
   },
   "file_extension": ".py",
   "mimetype": "text/x-python",
   "name": "python",
   "nbconvert_exporter": "python",
   "pygments_lexer": "ipython3",
   "version": "3.12.7"
  }
 },
 "nbformat": 4,
 "nbformat_minor": 5
}
