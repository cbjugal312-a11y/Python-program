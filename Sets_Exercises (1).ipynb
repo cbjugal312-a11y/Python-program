{
  "cells": [
    {
      "cell_type": "markdown",
      "id": "c354fdc5-828f-4a72-84a4-38c03a49d641",
      "metadata": {
        "id": "c354fdc5-828f-4a72-84a4-38c03a49d641"
      },
      "source": [
        "### Sets - Exercises"
      ]
    },
    {
      "cell_type": "code",
      "execution_count": null,
      "id": "0a7b0030-0947-4a39-ad5b-6ede9763ce8e",
      "metadata": {
        "id": "0a7b0030-0947-4a39-ad5b-6ede9763ce8e"
      },
      "outputs": [],
      "source": [
        "it_companies = {'Facebook', 'Google', 'Microsoft', 'Apple', 'IBM', 'Oracle', 'Amazon'}\n",
        "A = {19, 22, 24, 20, 25, 26}\n",
        "B = {19, 22, 20, 25, 26, 24, 28, 27}\n",
        "age = [22, 19, 24, 25, 26, 24, 25, 24]"
      ]
    },
    {
      "cell_type": "code",
      "execution_count": null,
      "id": "9906cb71-e6aa-4900-aa6d-060fc0ee0d3b",
      "metadata": {
        "colab": {
          "base_uri": "https://localhost:8080/"
        },
        "id": "9906cb71-e6aa-4900-aa6d-060fc0ee0d3b",
        "outputId": "aa3637ac-ad75-4e83-83fd-475c96b2a42f"
      },
      "outputs": [
        {
          "output_type": "stream",
          "name": "stdout",
          "text": [
            "length of the set is  7\n"
          ]
        }
      ],
      "source": [
        "# 1. Find the length of the set it_companies\n",
        "it_companies = {'Facebook', 'Google', 'Microsoft', 'Apple', 'IBM', 'Oracle', 'Amazon'}\n",
        "print(\"length of the set is \", len(it_companies))"
      ]
    },
    {
      "cell_type": "code",
      "execution_count": null,
      "id": "ca13f143-4eae-4a53-87ad-ba060516ac3c",
      "metadata": {
        "colab": {
          "base_uri": "https://localhost:8080/"
        },
        "id": "ca13f143-4eae-4a53-87ad-ba060516ac3c",
        "outputId": "419bd203-1fe1-42f1-835f-392626933456"
      },
      "outputs": [
        {
          "output_type": "stream",
          "name": "stdout",
          "text": [
            "Updated IT companies:  {'IBM', 'Oracle', 'Google', 'Twitter', 'Microsoft', 'Amazon', 'Facebook', 'Apple'}\n"
          ]
        }
      ],
      "source": [
        "# 2.Add 'Twitter' to it_companies\n",
        "it_companies = {'Facebook', 'Google', 'Microsoft', 'Apple', 'IBM', 'Oracle', 'Amazon'}\n",
        "it_companies.add(\"Twitter\")\n",
        "print(\"Updated IT companies: \", it_companies)"
      ]
    },
    {
      "cell_type": "code",
      "execution_count": null,
      "id": "4d9edee2-9b1e-45a0-b333-0044aa4beca0",
      "metadata": {
        "colab": {
          "base_uri": "https://localhost:8080/"
        },
        "id": "4d9edee2-9b1e-45a0-b333-0044aa4beca0",
        "outputId": "fee1e325-9118-4aea-e0a6-bc0e531588e9"
      },
      "outputs": [
        {
          "output_type": "stream",
          "name": "stdout",
          "text": [
            "{'Microsoft', 'Facebook', 'Tesla', 'Oracle', 'Google', 'IBM', 'Netflix', 'Amazon', 'ITC', 'Apple'}\n"
          ]
        }
      ],
      "source": [
        "# 3. Insert multiple IT companies at once to the set it_companies\n",
        "it_companies = {'Facebook', 'Google', 'Microsoft', 'Apple', 'IBM', 'Oracle', 'Amazon'}\n",
        "it_companies.update([\"Tesla\", \"Netflix\", \"ITC\"])\n",
        "print(it_companies)"
      ]
    },
    {
      "cell_type": "code",
      "execution_count": null,
      "id": "f23cf746-eb1e-4979-aced-0eda9f29ada8",
      "metadata": {
        "colab": {
          "base_uri": "https://localhost:8080/"
        },
        "id": "f23cf746-eb1e-4979-aced-0eda9f29ada8",
        "outputId": "e38bd5b2-25bf-44c2-a3f5-df79408ec090"
      },
      "outputs": [
        {
          "output_type": "stream",
          "name": "stdout",
          "text": [
            "updated it companies {'IBM', 'Oracle', 'Microsoft', 'Amazon', 'Facebook', 'Apple'}\n"
          ]
        }
      ],
      "source": [
        "# 4. Remove one of the companies from the set it_companies\n",
        "it_companies = {'Facebook', 'Google', 'Microsoft', 'Apple', 'IBM', 'Oracle', 'Amazon'}\n",
        "it_companies.remove(\"Google\")\n",
        "print(\"updated it companies\", it_companies)"
      ]
    },
    {
      "cell_type": "code",
      "execution_count": null,
      "id": "0b0f20c8-3710-4cb5-83f0-a25a583dd639",
      "metadata": {
        "colab": {
          "base_uri": "https://localhost:8080/"
        },
        "id": "0b0f20c8-3710-4cb5-83f0-a25a583dd639",
        "outputId": "9177acd2-dfed-4f0b-fba3-8d8c77834430"
      },
      "outputs": [
        {
          "output_type": "stream",
          "name": "stdout",
          "text": [
            "it companies {'IBM', 'Oracle', 'Microsoft', 'Amazon', 'Facebook', 'Apple'}\n",
            "updated it companies {'IBM', 'Oracle', 'Microsoft', 'Amazon', 'Facebook', 'Apple'}\n"
          ]
        }
      ],
      "source": [
        "# 5. What is the difference between remove and discard\n",
        "it_companies = {'Facebook', 'Google', 'Microsoft', 'Apple', 'IBM', 'Oracle', 'Amazon'}\n",
        "it_companies.discard(\"Google\")\n",
        "print(\"it companies\", it_companies)\n",
        "\n",
        "it_companies = {'Facebook', 'Google', 'Microsoft', 'Apple', 'IBM', 'Oracle', 'Amazon'}\n",
        "it_companies.remove(\"Google\")\n",
        "print(\"updated it companies\", it_companies)\n"
      ]
    },
    {
      "cell_type": "code",
      "execution_count": null,
      "id": "6f236ee3-0fed-481d-8653-7cb0a5383ef2",
      "metadata": {
        "colab": {
          "base_uri": "https://localhost:8080/"
        },
        "id": "6f236ee3-0fed-481d-8653-7cb0a5383ef2",
        "outputId": "529ff874-7c5a-409c-a72d-546be0c148be"
      },
      "outputs": [
        {
          "output_type": "stream",
          "name": "stdout",
          "text": [
            "{19, 20, 22, 24, 25, 26, 27, 28}\n"
          ]
        }
      ],
      "source": [
        "# 6. Join A and B\n",
        "A = {19, 22, 24, 20, 25, 26}\n",
        "B = {19, 22, 20, 25, 26, 24, 28, 27}\n",
        "print(A|B)\n"
      ]
    },
    {
      "cell_type": "code",
      "execution_count": null,
      "id": "ddd10b0d-0a61-438e-a251-c2461584be36",
      "metadata": {
        "colab": {
          "base_uri": "https://localhost:8080/"
        },
        "id": "ddd10b0d-0a61-438e-a251-c2461584be36",
        "outputId": "bc772ce9-e3f8-4ccf-f3e9-5542048fb4f5"
      },
      "outputs": [
        {
          "output_type": "stream",
          "name": "stdout",
          "text": [
            "{19, 20, 22, 24, 25, 26}\n"
          ]
        }
      ],
      "source": [
        "# 7. Find A intersection B\n",
        "A = {19, 22, 24, 20, 25, 26}\n",
        "B = {19, 22, 20, 25, 26, 24, 28, 27}\n",
        "print(A & B)\n"
      ]
    },
    {
      "cell_type": "code",
      "execution_count": null,
      "id": "5bf01c41-c3fa-4603-a30f-060d972fca88",
      "metadata": {
        "colab": {
          "base_uri": "https://localhost:8080/"
        },
        "id": "5bf01c41-c3fa-4603-a30f-060d972fca88",
        "outputId": "9145bc57-bf76-41be-b43a-0e8a0c1c7a72"
      },
      "outputs": [
        {
          "output_type": "stream",
          "name": "stdout",
          "text": [
            "is A subset of B?  True\n"
          ]
        }
      ],
      "source": [
        "# 8. Is A subset of B\n",
        "A = {19, 22, 24, 20, 25, 26}\n",
        "B = {19, 22, 20, 25, 26, 24, 28, 27}\n",
        "print(\"is A subset of B? \", A.issubset(B))"
      ]
    },
    {
      "cell_type": "code",
      "execution_count": null,
      "id": "ef1dae52-491d-413d-a73c-c750dd394a4a",
      "metadata": {
        "colab": {
          "base_uri": "https://localhost:8080/"
        },
        "id": "ef1dae52-491d-413d-a73c-c750dd394a4a",
        "outputId": "d7a31af8-58fa-4afc-f719-dc83c7783965"
      },
      "outputs": [
        {
          "output_type": "stream",
          "name": "stdout",
          "text": [
            "is A and B are disjoint sets?  False\n"
          ]
        }
      ],
      "source": [
        "# 9. Are A and B disjoint sets\n",
        "A = {19, 22, 24, 20, 25, 26}\n",
        "B = {19, 22, 20, 25, 26, 24, 28, 27}\n",
        "print(\"is A and B are disjoint sets? \", A.isdisjoint(B))"
      ]
    },
    {
      "cell_type": "code",
      "execution_count": null,
      "id": "2906a6f5-2583-49fe-8c60-f2528eda9c44",
      "metadata": {
        "colab": {
          "base_uri": "https://localhost:8080/"
        },
        "id": "2906a6f5-2583-49fe-8c60-f2528eda9c44",
        "outputId": "c11a84d6-8889-4a91-f427-5755e8943b14"
      },
      "outputs": [
        {
          "output_type": "stream",
          "name": "stdout",
          "text": [
            "A U B : {19, 20, 22, 24, 25, 26, 27, 28}\n",
            "B U A : {19, 20, 22, 24, 25, 26, 27, 28}\n"
          ]
        }
      ],
      "source": [
        "# 10. Join A with B and B with A\n",
        "A = {19, 22, 24, 20, 25, 26}\n",
        "B = {19, 22, 20, 25, 26, 24, 28, 27}\n",
        "print(\"A U B :\", A|B)\n",
        "print(\"B U A :\", B|A)"
      ]
    },
    {
      "cell_type": "code",
      "execution_count": null,
      "id": "40183476-3374-47d7-857c-070301e00f1c",
      "metadata": {
        "colab": {
          "base_uri": "https://localhost:8080/"
        },
        "id": "40183476-3374-47d7-857c-070301e00f1c",
        "outputId": "c15037df-299a-4cd6-d986-0606dbe41486"
      },
      "outputs": [
        {
          "output_type": "stream",
          "name": "stdout",
          "text": [
            "symmetric difference is:  {27, 28}\n"
          ]
        }
      ],
      "source": [
        "# 11. What is the symmetric difference between A and B\n",
        "A = {19, 22, 24, 20, 25, 26}\n",
        "B = {19, 22, 20, 25, 26, 24, 28, 27}\n",
        "print(\"symmetric difference is: \", A.symmetric_difference(B))"
      ]
    },
    {
      "cell_type": "code",
      "execution_count": null,
      "id": "13310309-8065-4369-bb0b-9ed7f1f59024",
      "metadata": {
        "colab": {
          "base_uri": "https://localhost:8080/",
          "height": 201
        },
        "id": "13310309-8065-4369-bb0b-9ed7f1f59024",
        "outputId": "1f58d8b1-008f-474d-dc3f-03d546d8c807"
      },
      "outputs": [
        {
          "output_type": "error",
          "ename": "NameError",
          "evalue": "name 'A' is not defined",
          "traceback": [
            "\u001b[0;31m---------------------------------------------------------------------------\u001b[0m",
            "\u001b[0;31mNameError\u001b[0m                                 Traceback (most recent call last)",
            "\u001b[0;32m/tmp/ipython-input-229819914.py\u001b[0m in \u001b[0;36m<cell line: 0>\u001b[0;34m()\u001b[0m\n\u001b[1;32m      3\u001b[0m \u001b[0mB\u001b[0m \u001b[0;34m=\u001b[0m \u001b[0;34m{\u001b[0m\u001b[0;36m19\u001b[0m\u001b[0;34m,\u001b[0m \u001b[0;36m22\u001b[0m\u001b[0;34m,\u001b[0m \u001b[0;36m20\u001b[0m\u001b[0;34m,\u001b[0m \u001b[0;36m25\u001b[0m\u001b[0;34m,\u001b[0m \u001b[0;36m26\u001b[0m\u001b[0;34m,\u001b[0m \u001b[0;36m24\u001b[0m\u001b[0;34m,\u001b[0m \u001b[0;36m28\u001b[0m\u001b[0;34m,\u001b[0m \u001b[0;36m27\u001b[0m\u001b[0;34m}\u001b[0m\u001b[0;34m\u001b[0m\u001b[0;34m\u001b[0m\u001b[0m\n\u001b[1;32m      4\u001b[0m \u001b[0;32mdel\u001b[0m \u001b[0mA\u001b[0m\u001b[0;34m,\u001b[0m \u001b[0mB\u001b[0m\u001b[0;34m\u001b[0m\u001b[0;34m\u001b[0m\u001b[0m\n\u001b[0;32m----> 5\u001b[0;31m \u001b[0mprint\u001b[0m\u001b[0;34m(\u001b[0m\u001b[0mA\u001b[0m\u001b[0;34m)\u001b[0m\u001b[0;34m\u001b[0m\u001b[0;34m\u001b[0m\u001b[0m\n\u001b[0m\u001b[1;32m      6\u001b[0m \u001b[0mprint\u001b[0m\u001b[0;34m(\u001b[0m\u001b[0mB\u001b[0m\u001b[0;34m)\u001b[0m\u001b[0;34m\u001b[0m\u001b[0;34m\u001b[0m\u001b[0m\n",
            "\u001b[0;31mNameError\u001b[0m: name 'A' is not defined"
          ]
        }
      ],
      "source": [
        " # 12. Delete the sets completely\n",
        "A = {19, 22, 24, 20, 25, 26}\n",
        "B = {19, 22, 20, 25, 26, 24, 28, 27}\n",
        "del A, B\n",
        "print(A)\n",
        "print(B)"
      ]
    },
    {
      "cell_type": "code",
      "execution_count": null,
      "id": "dd5f2b3a-df25-4b26-952d-84439f397d95",
      "metadata": {
        "colab": {
          "base_uri": "https://localhost:8080/"
        },
        "id": "dd5f2b3a-df25-4b26-952d-84439f397d95",
        "outputId": "1d2524c7-b9da-4e9f-96bb-92169d33a44f"
      },
      "outputs": [
        {
          "output_type": "stream",
          "name": "stdout",
          "text": [
            "list:  [22, 19, 24, 25, 26, 24, 25, 24]\n",
            "set: {19, 22, 24, 25, 26}\n",
            "length of list is  8\n",
            "length of set is  5\n",
            "length of list is greater than set\n"
          ]
        }
      ],
      "source": [
        "# 13. Convert the ages to a set and compare the length of the list and the set, which one is bigger?\n",
        "age = [22, 19, 24, 25, 26, 24, 25, 24]\n",
        "age_set = set(age)\n",
        "print(\"list: \", age)\n",
        "print(\"set:\" ,age_set)\n",
        "print(\"length of list is \", len(age))\n",
        "print(\"length of set is \", len(age_set))\n",
        "if len(age) < len(age_set):\n",
        "  print(\"length of list is less than set\")\n",
        "elif len(age) > len(age_set):\n",
        "  print(\"length of list is greater than set\")\n",
        "else:\n",
        "  print(\"they have same length \")\n"
      ]
    },
    {
      "cell_type": "code",
      "execution_count": null,
      "id": "62d4bc84-ca64-4ed2-8175-a8cd653eb7cd",
      "metadata": {
        "colab": {
          "base_uri": "https://localhost:8080/"
        },
        "id": "62d4bc84-ca64-4ed2-8175-a8cd653eb7cd",
        "outputId": "7e23fe6a-6792-481e-8f89-b2f10f29894c"
      },
      "outputs": [
        {
          "output_type": "stream",
          "name": "stdout",
          "text": [
            "words:  ['I', 'am', 'a', 'teacher', 'and', 'I', 'love', 'to', 'inspire', 'and', 'teach', 'people']\n",
            "unique words:  {'a', 'I', 'and', 'teacher', 'inspire', 'people', 'love', 'teach', 'to', 'am'}\n",
            "number of unique words are used:  10\n"
          ]
        }
      ],
      "source": [
        "# 14. \"I am a teacher and I love to inspire and teach people.\"\n",
        "# How many unique words have been used in the sentence? Use the split methods and set to get the unique words.\n",
        "sentence = \"I am a teacher and I love to inspire and teach people\"\n",
        "words = sentence.split()\n",
        "unique_words = set(words)\n",
        "print(\"words: \", words)\n",
        "print(\"unique words: \", unique_words)\n",
        "print(\"number of unique words are used: \", len(unique_words))"
      ]
    }
  ],
  "metadata": {
    "kernelspec": {
      "display_name": "Python 3 (ipykernel)",
      "language": "python",
      "name": "python3"
    },
    "language_info": {
      "codemirror_mode": {
        "name": "ipython",
        "version": 3
      },
      "file_extension": ".py",
      "mimetype": "text/x-python",
      "name": "python",
      "nbconvert_exporter": "python",
      "pygments_lexer": "ipython3",
      "version": "3.12.7"
    },
    "colab": {
      "provenance": []
    }
  },
  "nbformat": 4,
  "nbformat_minor": 5
}