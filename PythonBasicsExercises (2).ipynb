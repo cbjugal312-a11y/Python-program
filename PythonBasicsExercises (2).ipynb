{
 "cells": [
  {
   "cell_type": "code",
   "execution_count": null,
   "id": "ef20e164-a3d4-473d-9f6b-c00c09ce093b",
   "metadata": {},
   "outputs": [],
   "source": [
    "print(2 + 3) "
   ]
  },
  {
   "cell_type": "code",
   "execution_count": null,
   "id": "8b39526f-7e84-4cd1-a55e-9333ed8009c4",
   "metadata": {},
   "outputs": [],
   "source": [
    "print(3 - 1)"
   ]
  },
  {
   "cell_type": "code",
   "execution_count": null,
   "id": "e8aa6c62-9ae0-4f6e-b3b2-7996752cf722",
   "metadata": {},
   "outputs": [],
   "source": [
    "print(2 * 3)  "
   ]
  },
  {
   "cell_type": "code",
   "execution_count": null,
   "id": "9ae4f620-85d6-42b1-a934-62dd284e72e7",
   "metadata": {},
   "outputs": [],
   "source": [
    "print(3 / 2)  "
   ]
  },
  {
   "cell_type": "code",
   "execution_count": null,
   "id": "5b3de554-1350-4f04-9a20-8edafa6f942e",
   "metadata": {},
   "outputs": [],
   "source": [
    "print(3 ** 2) "
   ]
  },
  {
   "cell_type": "code",
   "execution_count": null,
   "id": "58a1bcd1-5dea-40be-bc2f-b1965854c2ad",
   "metadata": {},
   "outputs": [],
   "source": [
    "print(3 % 2)  "
   ]
  },
  {
   "cell_type": "code",
   "execution_count": null,
   "id": "bbac69e0-6405-4c36-aeed-e9e9de7a36df",
   "metadata": {},
   "outputs": [],
   "source": [
    "print(3 // 2)"
   ]
  },
  {
   "cell_type": "code",
   "execution_count": null,
   "id": "df9b5e76-8216-4baa-9a5b-11b14b729e24",
   "metadata": {},
   "outputs": [],
   "source": [
    "print(type(10))  "
   ]
  },
  {
   "cell_type": "code",
   "execution_count": null,
   "id": "1bfa3396-bed8-4ecd-82e0-523165df83b3",
   "metadata": {},
   "outputs": [],
   "source": [
    "print(type(3.14))"
   ]
  },
  {
   "cell_type": "code",
   "execution_count": null,
   "id": "d69da328-bc17-4404-a15d-bd0a3a762eb2",
   "metadata": {},
   "outputs": [],
   "source": [
    "print(type(1 + 3j)) "
   ]
  },
  {
   "cell_type": "code",
   "execution_count": null,
   "id": "ecf92007-e179-4034-b794-51cfb8c05932",
   "metadata": {},
   "outputs": [],
   "source": [
    "print(type('Rounded Professional Program'))"
   ]
  },
  {
   "cell_type": "code",
   "execution_count": null,
   "id": "7598e79b-3478-4a44-92da-f74c9d773d46",
   "metadata": {},
   "outputs": [],
   "source": [
    "print(type([1, 2, 3])) "
   ]
  },
  {
   "cell_type": "code",
   "execution_count": null,
   "id": "441e246a-c898-499d-ae22-9b1e77fedc55",
   "metadata": {},
   "outputs": [],
   "source": [
    "# Check the python version you are using"
   ]
  },
  {
   "cell_type": "code",
   "execution_count": null,
   "id": "a0ec8186-6fe6-4377-8f93-eeb5306c78e9",
   "metadata": {},
   "outputs": [],
   "source": [
    "# Check the data type of 4 - 4j"
   ]
  },
  {
   "cell_type": "code",
   "execution_count": null,
   "id": "a3c1eab2-2f89-41ab-aeff-c69a21bf388a",
   "metadata": {},
   "outputs": [],
   "source": [
    "#  Find an Euclidian distance between (2, 3) and (10, 8) "
   ]
  },
  {
   "attachments": {
    "245acae2-de4d-476a-a8a7-4519cd8e9c8b.png": {
     "image/png": "[encoded data removed]"
    }
   },
   "cell_type": "markdown",
   "id": "059ab993-9dcc-4bd8-b505-9671f57022f1",
   "metadata": {},
   "source": [
    "![image.png](attachment:245acae2-de4d-476a-a8a7-4519cd8e9c8b.png)"
   ]
  },
  {
   "cell_type": "code",
   "execution_count": null,
   "id": "4a18e4fd-4e03-4e32-bcdb-7dec40375dba",
   "metadata": {},
   "outputs": [],
   "source": [
    "#Input the name and age from a user and store the values in variables"
   ]
  },
  {
   "cell_type": "code",
   "execution_count": null,
   "id": "3459c047-8ff0-4d82-a207-8d60acb055f5",
   "metadata": {},
   "outputs": [],
   "source": [
    "#Type conversions\n",
    "\n",
    "# float to int \n",
    "gravity = 9.81 \n",
    "print(int(gravity))  "
   ]
  },
  {
   "cell_type": "code",
   "execution_count": null,
   "id": "f1225b98-aeb1-4a8a-9917-b91b4f6558fe",
   "metadata": {},
   "outputs": [],
   "source": [
    "# int to str \n",
    "num_int = 10 \n",
    "print(num_int)                  # 10 \n",
    "num_str = str(num_int) \n",
    "print(num_str)                  \n",
    "# '10'"
   ]
  },
  {
   "cell_type": "code",
   "execution_count": null,
   "id": "472a130c-85b8-4439-8fa8-33578eb15601",
   "metadata": {},
   "outputs": [],
   "source": [
    "# str to int or float \n",
    "num_str = '10.6' \n",
    "num_float = float(num_str) \n",
    "print('num_float', float(num_str))  # 10.6 \n",
    "num_int = int(num_float) \n",
    "print('num_int', int(num_int))      # 10"
   ]
  },
  {
   "cell_type": "code",
   "execution_count": null,
   "id": "560df4d7-1fc5-4a95-b278-a83fc5a2c8eb",
   "metadata": {},
   "outputs": [],
   "source": [
    "# str to list \n",
    "first_name = 'RP2' \n",
    "print(first_name)               # 'RP2' \n",
    "first_name_to_list = list(first_name) \n",
    "print(first_name_to_list)            # ['R', 'P', '2']"
   ]
  },
  {
   "cell_type": "code",
   "execution_count": null,
   "id": "70c0b5ab-2c41-4423-82a1-ba26e80dc544",
   "metadata": {},
   "outputs": [],
   "source": [
    "# Declare a variable is_married and assign a value to it"
   ]
  },
  {
   "cell_type": "code",
   "execution_count": null,
   "id": "9f8952f2-554d-4c25-986d-227ee0bd2f3c",
   "metadata": {},
   "outputs": [],
   "source": [
    "# Declare a variable is_true and assign a value to it "
   ]
  },
  {
   "cell_type": "code",
   "execution_count": null,
   "id": "0ab3a4e3-66cd-4d07-93a3-168ec1b35d6e",
   "metadata": {},
   "outputs": [],
   "source": [
    "# Declare a variable is_light_on and assign a value to it"
   ]
  },
  {
   "cell_type": "code",
   "execution_count": null,
   "id": "2926f657-35d1-4860-b26e-0869aa4fde11",
   "metadata": {},
   "outputs": [],
   "source": [
    "#Declare a variable first_name and store your name in it\n",
    "#Using the len() built-in function, find the length of your first name "
   ]
  },
  {
   "cell_type": "code",
   "execution_count": null,
   "id": "b3bc2233-ccb9-42df-b802-60d76c98b027",
   "metadata": {},
   "outputs": [],
   "source": [
    "#Compare the length of your first name and your last name "
   ]
  },
  {
   "cell_type": "code",
   "execution_count": null,
   "id": "682ac8aa-8543-4f15-980c-c622a3398cc5",
   "metadata": {},
   "outputs": [],
   "source": [
    "#Declare 5 as num_one and 4 as num_two "
   ]
  },
  {
   "cell_type": "code",
   "execution_count": null,
   "id": "17d6e5ba-4def-4887-9882-b1f049fa0437",
   "metadata": {},
   "outputs": [],
   "source": [
    "#Add num_one and num_two and assign the value to a variable total "
   ]
  },
  {
   "cell_type": "code",
   "execution_count": null,
   "id": "49b95a9d-e448-43c7-8dd5-aad9120306bc",
   "metadata": {},
   "outputs": [],
   "source": [
    "#Subtract num_two from num_one and assign the value to a variable diff"
   ]
  },
  {
   "cell_type": "code",
   "execution_count": null,
   "id": "c8f9c89d-bf3b-48b9-91c9-d0774cad54ee",
   "metadata": {},
   "outputs": [],
   "source": [
    "#Multiply num_two and num_one and assign the value to a variable product"
   ]
  },
  {
   "cell_type": "code",
   "execution_count": null,
   "id": "d2d69e04-1880-4859-9e2b-be5db461d7c3",
   "metadata": {},
   "outputs": [],
   "source": [
    "#Divide num_one by num_two and assign the value to a variable division "
   ]
  },
  {
   "cell_type": "code",
   "execution_count": null,
   "id": "66e533f5-1c96-47de-a401-85f0d05c2f1c",
   "metadata": {},
   "outputs": [],
   "source": [
    "# Use modulus division to find num_two divided by num_one and assign the value \n",
    "# to a variable remainder"
   ]
  },
  {
   "cell_type": "code",
   "execution_count": null,
   "id": "3253f947-a4cd-4293-9820-70b07babafcd",
   "metadata": {},
   "outputs": [],
   "source": [
    "# Calculate num_one to the power of num_two and assign the value to a variable exp "
   ]
  },
  {
   "cell_type": "code",
   "execution_count": null,
   "id": "e3e75145-8fc6-469f-b1f9-2f4bc0b8f5f9",
   "metadata": {},
   "outputs": [],
   "source": [
    "#  Find floor division of num_one by num_two and assign the value to a variable \n",
    "floor_division"
   ]
  },
  {
   "cell_type": "code",
   "execution_count": null,
   "id": "7c2f00a2-3e96-4f5f-b661-a3e844874186",
   "metadata": {},
   "outputs": [],
   "source": [
    "#1. Declare your age as integer variable \n",
    "#2. Declare your height as a float variable \n",
    "#3. Declare a variable that store a complex number"
   ]
  },
  {
   "cell_type": "code",
   "execution_count": null,
   "id": "eb600d51-b389-440d-b791-2c7326c8ea7f",
   "metadata": {},
   "outputs": [],
   "source": [
    "#Write a script that prompts the user to enter \n",
    "#side a, side b, and side c of the triangle. \n",
    "#Calculate the perimeter of the triangle (perimeter = a + b + c). "
   ]
  },
  {
   "cell_type": "code",
   "execution_count": null,
   "id": "d19c3f66-502b-463f-a269-2047860364d3",
   "metadata": {},
   "outputs": [],
   "source": [
    "#Get length and width of a rectangle using prompt. \n",
    "#Calculate its area (area = length x width) and perimeter (perimeter = 2 x (length + width)) "
   ]
  },
  {
   "cell_type": "code",
   "execution_count": null,
   "id": "a6004d28-3cf2-470a-81fd-7e7d765be6fc",
   "metadata": {},
   "outputs": [],
   "source": [
    "# Calculate the slope, x-intercept and y-intercept of y = 2x -2"
   ]
  },
  {
   "cell_type": "code",
   "execution_count": null,
   "id": "95c2e62e-e6dd-4a70-bbea-9dffe9c59e23",
   "metadata": {},
   "outputs": [],
   "source": [
    "# Slope is (m = y2-y1/x2-x1). \n",
    "#Find the slope and Euclidean distance between \n",
    "#point (2, 2) and point (6,10)"
   ]
  },
  {
   "cell_type": "code",
   "execution_count": null,
   "id": "87fb02da-1ca0-4317-9fbc-424efad6d21e",
   "metadata": {},
   "outputs": [],
   "source": [
    "#Compare the slopes in previous tasks"
   ]
  },
  {
   "cell_type": "code",
   "execution_count": null,
   "id": "40594438-77de-4854-8a9d-5ffc5b19b854",
   "metadata": {},
   "outputs": [],
   "source": [
    "#  Calculate the value of y (y = x^2 + 6x + 9). \n",
    "#Try to use different x values and \n",
    "#figure out at what x value y is going to be 0. "
   ]
  },
  {
   "cell_type": "code",
   "execution_count": null,
   "id": "2a715e27-b1a1-4125-aabb-824136d96346",
   "metadata": {},
   "outputs": [],
   "source": [
    "# Use and operator to check if 'on' is found in both 'python' and 'dragon' "
   ]
  },
  {
   "cell_type": "code",
   "execution_count": null,
   "id": "70318926-6f5e-4587-be48-89e051579fce",
   "metadata": {},
   "outputs": [],
   "source": [
    "# I hope this course is not full of jargon. \n",
    "#Use in operator to check if jargon is in the sentence. "
   ]
  },
  {
   "cell_type": "code",
   "execution_count": null,
   "id": "c66bf3dc-a0a0-496a-81a9-6c32097bf4b1",
   "metadata": {},
   "outputs": [],
   "source": [
    "# Find the length of the text python and convert the value to float and \n",
    "#convert it to string "
   ]
  },
  {
   "cell_type": "code",
   "execution_count": null,
   "id": "3a7268d0-cb8e-454e-8d37-67037bab69c9",
   "metadata": {},
   "outputs": [],
   "source": [
    " #Even numbers are divisible by 2 and the remainder is zero. \n",
    "#How do you check if a number is even or not using python?"
   ]
  },
  {
   "cell_type": "code",
   "execution_count": null,
   "id": "e1d9c6f5-0da0-481c-bfa4-0d4f6b1adb5e",
   "metadata": {},
   "outputs": [],
   "source": [
    "# Check if the floor division of 7 by 3 is equal to the int converted value of 2.7."
   ]
  },
  {
   "cell_type": "code",
   "execution_count": null,
   "id": "30be5129-0398-4f6a-906a-282f5e6632b0",
   "metadata": {},
   "outputs": [],
   "source": [
    "# Check if type of '10' is equal to type of 10 "
   ]
  },
  {
   "cell_type": "code",
   "execution_count": null,
   "id": "28a34c5d-c80c-4829-9d70-f0525026bb73",
   "metadata": {},
   "outputs": [],
   "source": [
    "#. Check if int('9.8') is equal to 10 "
   ]
  },
  {
   "cell_type": "code",
   "execution_count": null,
   "id": "5376f7b5-799c-4787-a487-1f1820bd2b09",
   "metadata": {},
   "outputs": [],
   "source": [
    "# Write a Python script that displays the following table\n",
    "1 1 1 1 1 \n",
    "2 1 2 4 8 \n",
    "3 1 3 9 27 \n",
    "4 1 4 16 64 \n",
    "5 1 5 25 125 "
   ]
  },
  {
   "cell_type": "code",
   "execution_count": null,
   "id": "e2e91157-e856-4ba9-b30a-6c40839d1261",
   "metadata": {},
   "outputs": [],
   "source": [
    "if a > 0: \n",
    "    print('A is a positive number') \n",
    "elif a < 0: \n",
    "    print('A is a negative number') \n",
    "else: \n",
    "    print('A is zero')"
   ]
  },
  {
   "cell_type": "code",
   "execution_count": null,
   "id": "02033b0f-74ac-4f2b-a7cc-f37e023cea9c",
   "metadata": {},
   "outputs": [],
   "source": [
    "a = 3 \n",
    "print('A is positive') if a > 0 else print('A is negative') \n",
    "# first condition met, 'A is positive' will be printed"
   ]
  },
  {
   "cell_type": "markdown",
   "id": "46bebe90-b008-43ca-928a-378477bbd44d",
   "metadata": {},
   "source": [
    "Get user input using input(“Enter your age: ”). If user is 18 or older, give \n",
    "feedback: You are old enough to drive. If below 18 give feedback to wait for \n",
    "the missing amount of years. <br>\n",
    "Output: <br>\n",
    "Enter your age: 30 <br>\n",
    "You are old enough to learn to drive. <br>\n",
    "Output: <br>\n",
    "Enter your age: 15 <br>\n",
    "You need 3 more years to learn to drive."
   ]
  },
  {
   "cell_type": "markdown",
   "id": "77a9d52d-7705-4cbe-88b6-ed73b3afe119",
   "metadata": {},
   "source": [
    "Compare the values of my_age and your_age using if … else. <br>Who is older \n",
    "(me or you)? Use input(“Enter your age: ”) to get the age as input. <br>You can \n",
    "use a nested condition to print 'year' for 1 year difference in age, 'years' for \n",
    "bigger differences, and a custom text if my_age = your_age.<br> Output: \n",
    "Enter your age: 30 <br>\n",
    "You are 5 years older than me. "
   ]
  },
  {
   "cell_type": "code",
   "execution_count": null,
   "id": "717edc6b-0f07-408c-ae5a-ece96f5ff031",
   "metadata": {},
   "outputs": [],
   "source": [
    "#Write a code which gives grade to students according to theirs scores:\n",
    "80-100, A \n",
    "70-89, B \n",
    "60-69, C \n",
    "50-59, D \n",
    "0-49, F "
   ]
  },
  {
   "cell_type": "code",
   "execution_count": null,
   "id": "44db2bd2-e191-43b1-a002-bdfcf7c4ef21",
   "metadata": {},
   "outputs": [],
   "source": [
    "Check if the season is Autumn, Winter, Spring or Summer. If the user input is: \n",
    "September, October or November, the season is Autumn. December, January \n",
    "or February, the season is Winter. March, April or May, the season is Spring \n",
    "June, July or August, the season is Summer "
   ]
  },
  {
   "cell_type": "code",
   "execution_count": null,
   "id": "ed89e8a6-a997-452e-8466-bb8bb1ae162b",
   "metadata": {},
   "outputs": [],
   "source": []
  }
 ],
 "metadata": {
  "kernelspec": {
   "display_name": "Python 3 (ipykernel)",
   "language": "python",
   "name": "python3"
  },
  "language_info": {
   "codemirror_mode": {
    "name": "ipython",
    "version": 3
   },
   "file_extension": ".py",
   "mimetype": "text/x-python",
   "name": "python",
   "nbconvert_exporter": "python",
   "pygments_lexer": "ipython3",
   "version": "3.12.7"
  }
 },
 "nbformat": 4,
 "nbformat_minor": 5
}
