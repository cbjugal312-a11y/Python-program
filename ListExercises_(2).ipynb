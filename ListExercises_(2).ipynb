{
  "cells": [
    {
      "cell_type": "code",
      "execution_count": null,
      "id": "a500643f-ceb3-454d-a528-cbd3716c16e3",
      "metadata": {
        "colab": {
          "base_uri": "https://localhost:8080/"
        },
        "id": "a500643f-ceb3-454d-a528-cbd3716c16e3",
        "outputId": "e80adf20-233a-435c-d0dd-bd7f9095cceb"
      },
      "outputs": [
        {
          "output_type": "stream",
          "name": "stdout",
          "text": [
            "[]\n"
          ]
        }
      ],
      "source": [
        "# 1. Declare an empty list\n",
        "empty_list = []\n",
        "print(empty_list)"
      ]
    },
    {
      "cell_type": "code",
      "execution_count": null,
      "id": "ce64b9b4-d594-4698-8c04-6f871ab7af16",
      "metadata": {
        "colab": {
          "base_uri": "https://localhost:8080/"
        },
        "id": "ce64b9b4-d594-4698-8c04-6f871ab7af16",
        "outputId": "34c9db10-2a2b-41fe-de74-a9cb21499ab0"
      },
      "outputs": [
        {
          "output_type": "stream",
          "name": "stdout",
          "text": [
            "['apple', 'orange', 'lemon', 'mango', 'grapes', 'papaya']\n"
          ]
        }
      ],
      "source": [
        "# 2. Declare a list with more than 5 items\n",
        "fruits = [\"apple\", \"orange\", \"lemon\", \"mango\", \"grapes\", \"papaya\"]\n",
        "print(fruits)"
      ]
    },
    {
      "cell_type": "code",
      "execution_count": null,
      "id": "60ee73cc-7799-4040-94a2-54968aab9ce0",
      "metadata": {
        "colab": {
          "base_uri": "https://localhost:8080/"
        },
        "id": "60ee73cc-7799-4040-94a2-54968aab9ce0",
        "outputId": "dc59c991-9b78-448a-a9ae-005c26dc5527"
      },
      "outputs": [
        {
          "output_type": "stream",
          "name": "stdout",
          "text": [
            "6\n"
          ]
        }
      ],
      "source": [
        "# 3. Find the length of your list\n",
        "print(len(fruits))"
      ]
    },
    {
      "cell_type": "code",
      "execution_count": null,
      "id": "a717c28b-d4fe-4f2c-b99f-1aaea0c2dc4f",
      "metadata": {
        "colab": {
          "base_uri": "https://localhost:8080/"
        },
        "id": "a717c28b-d4fe-4f2c-b99f-1aaea0c2dc4f",
        "outputId": "06b05d72-2d46-4b31-a322-d3544b8885a5"
      },
      "outputs": [
        {
          "output_type": "stream",
          "name": "stdout",
          "text": [
            "first item:  apple\n",
            "middle item:  mango\n",
            "other middle item:  lemon\n",
            "last item:  papaya\n"
          ]
        }
      ],
      "source": [
        "# 4.Get the first item, the middle item and the last item of the list\n",
        "print(\"first item: \", fruits[0])\n",
        "print(\"middle item: \", fruits[len(fruits)//2])\n",
        "print(\"other middle item: \", fruits[(len(fruits)//2)-1])\n",
        "print(\"last item: \", fruits[-1])"
      ]
    },
    {
      "cell_type": "code",
      "execution_count": null,
      "id": "646d4e51-10e2-4781-bedd-2660ae979c81",
      "metadata": {
        "colab": {
          "base_uri": "https://localhost:8080/"
        },
        "id": "646d4e51-10e2-4781-bedd-2660ae979c81",
        "outputId": "b0a8d1fe-b5e8-433e-960e-83734219d46d"
      },
      "outputs": [
        {
          "output_type": "stream",
          "name": "stdout",
          "text": [
            "['Abhijith', 27, 173, 'unmarried', 'Padinjare Vailekkat']\n"
          ]
        }
      ],
      "source": [
        "# 5.Declare a list called mixed_data_types, put your(name, age, height, marital status, address)\n",
        "\n",
        "mixed_data_types = [\"Abhijith\", 27, 173, \"unmarried\", \"Padinjare Vailekkat\"]\n",
        "print(mixed_data_types)"
      ]
    },
    {
      "cell_type": "code",
      "execution_count": null,
      "id": "644386a3-0af9-4f83-9d33-45d2aaf3139b",
      "metadata": {
        "id": "644386a3-0af9-4f83-9d33-45d2aaf3139b"
      },
      "outputs": [],
      "source": [
        "# 6. Declare a list variable named it_companies and assign initial values\n",
        "# Facebook, Google, Microsoft, Apple, IBM, Oracle and Amazon.\n",
        "it_companies = [\"Facebook\", \"Google\", \"Microsoft\", \"Apple\", \"IBM\", \"Oracle\", \"Amazon\"]"
      ]
    },
    {
      "cell_type": "code",
      "execution_count": null,
      "id": "18ef3cfe-cb3c-4a61-a7d8-86ac05f64665",
      "metadata": {
        "colab": {
          "base_uri": "https://localhost:8080/"
        },
        "id": "18ef3cfe-cb3c-4a61-a7d8-86ac05f64665",
        "outputId": "f77a436f-3002-41d8-c0a4-a76d47b6f85e"
      },
      "outputs": [
        {
          "output_type": "stream",
          "name": "stdout",
          "text": [
            "['Facebook', 'Google', 'Microsoft', 'Apple', 'IBM', 'Oracle', 'Amazon']\n"
          ]
        }
      ],
      "source": [
        "#7. Print the list using print()\n",
        "\n",
        "print(it_companies)"
      ]
    },
    {
      "cell_type": "code",
      "execution_count": null,
      "id": "7d19c4a6-8ab2-4fcc-9d05-68372b48c9db",
      "metadata": {
        "colab": {
          "base_uri": "https://localhost:8080/"
        },
        "id": "7d19c4a6-8ab2-4fcc-9d05-68372b48c9db",
        "outputId": "9a4efd36-b44d-4ff0-bd3c-c349b2999be0"
      },
      "outputs": [
        {
          "output_type": "stream",
          "name": "stdout",
          "text": [
            "7\n"
          ]
        }
      ],
      "source": [
        "# 8. Print the number of companies in the list\n",
        "print(len(it_companies))"
      ]
    },
    {
      "cell_type": "code",
      "execution_count": null,
      "id": "0d146e56-a243-4326-9438-00c0930de807",
      "metadata": {
        "colab": {
          "base_uri": "https://localhost:8080/"
        },
        "id": "0d146e56-a243-4326-9438-00c0930de807",
        "outputId": "907993b9-a0c6-4498-bf0a-6b6f1eaac12e"
      },
      "outputs": [
        {
          "output_type": "stream",
          "name": "stdout",
          "text": [
            "first company is  Facebook\n",
            "middle company is  Apple\n",
            "last company is  Amazon\n"
          ]
        }
      ],
      "source": [
        "# 9. Print the first, middle and last company\n",
        "print(\"first company is \", it_companies[0])\n",
        "print(\"middle company is \", it_companies[len(it_companies)//2])\n",
        "print(\"last company is \", it_companies[-1])"
      ]
    },
    {
      "cell_type": "code",
      "execution_count": null,
      "id": "4e833417-fb8f-473e-8459-3b0256a2ffd9",
      "metadata": {
        "colab": {
          "base_uri": "https://localhost:8080/"
        },
        "id": "4e833417-fb8f-473e-8459-3b0256a2ffd9",
        "outputId": "75a9ef3c-30a4-4866-fdc4-94a19a5a760c"
      },
      "outputs": [
        {
          "output_type": "stream",
          "name": "stdout",
          "text": [
            "['x', 'Google', 'Microsoft', 'Apple', 'IBM', 'Oracle', 'Amazon']\n"
          ]
        }
      ],
      "source": [
        "# 10. Print the list after modifying one of the companies\n",
        "it_companies[0] = 'x'\n",
        "print(it_companies)\n"
      ]
    },
    {
      "cell_type": "code",
      "execution_count": null,
      "id": "5f489b23-42cc-4157-b89e-e62d1ff742f9",
      "metadata": {
        "colab": {
          "base_uri": "https://localhost:8080/"
        },
        "id": "5f489b23-42cc-4157-b89e-e62d1ff742f9",
        "outputId": "8861cee9-2382-4d97-f836-f75336bbd0b8"
      },
      "outputs": [
        {
          "output_type": "stream",
          "name": "stdout",
          "text": [
            "['x', 'Google', 'Microsoft', 'Apple', 'IBM', 'Oracle', 'Amazon', 'facebook']\n"
          ]
        }
      ],
      "source": [
        "# 11. Add an IT company to it_companies\n",
        "\n",
        "it_companies.append(\"facebook\")\n",
        "print(it_companies)\n"
      ]
    },
    {
      "cell_type": "code",
      "execution_count": null,
      "id": "61a14d8e-3d31-4d54-927d-6bf5db4a7f93",
      "metadata": {
        "colab": {
          "base_uri": "https://localhost:8080/"
        },
        "id": "61a14d8e-3d31-4d54-927d-6bf5db4a7f93",
        "outputId": "1074534d-d488-4cae-c5cc-1ab9e1ba2153"
      },
      "outputs": [
        {
          "output_type": "stream",
          "name": "stdout",
          "text": [
            "['Facebook', 'Google', 'Microsoft', 'Tesla', 'Apple', 'IBM', 'Oracle', 'Amazon']\n"
          ]
        }
      ],
      "source": [
        "# 12. Insert an IT company in the middle of the companies list\n",
        "it_companies = [\"Facebook\", \"Google\", \"Microsoft\", \"Apple\", \"IBM\", \"Oracle\", \"Amazon\"]\n",
        "middle_index = len(it_companies)//2\n",
        "it_companies.insert(middle_index, \"Tesla\")\n",
        "print(it_companies)\n",
        "\n",
        "\n",
        "\n",
        "\n"
      ]
    },
    {
      "cell_type": "code",
      "execution_count": null,
      "id": "31c074f6-9898-497e-8e74-14fcfcbee970",
      "metadata": {
        "id": "31c074f6-9898-497e-8e74-14fcfcbee970",
        "colab": {
          "base_uri": "https://localhost:8080/"
        },
        "outputId": "d357e893-98d5-40f1-8dfe-f561a456f022"
      },
      "outputs": [
        {
          "output_type": "stream",
          "name": "stdout",
          "text": [
            "['Facebook', 'GOOGLE', 'Microsoft', 'Apple', 'IBM', 'Oracle', 'Amazon']\n"
          ]
        }
      ],
      "source": [
        "# 13. Change one of the it_companies names to uppercase (IBM excluded!)\n",
        "\n",
        "it_companies = [\"Facebook\", \"Google\", \"Microsoft\", \"Apple\", \"IBM\", \"Oracle\", \"Amazon\",]\n",
        "it_companies[1] = it_companies[1].upper()\n",
        "print(it_companies)"
      ]
    },
    {
      "cell_type": "code",
      "execution_count": null,
      "id": "b83a8bf9-1294-46dd-a50a-770927a9a936",
      "metadata": {
        "id": "b83a8bf9-1294-46dd-a50a-770927a9a936",
        "colab": {
          "base_uri": "https://localhost:8080/"
        },
        "outputId": "81a2e1a5-6271-4399-f16d-814d3e867181"
      },
      "outputs": [
        {
          "output_type": "stream",
          "name": "stdout",
          "text": [
            "Facebook#;  Google#;  Microsoft#;  Apple#;  IBM#;  Oracle#;  Amazon\n"
          ]
        }
      ],
      "source": [
        "# 14. Join the it_companies with a string '#;  '\n",
        "\n",
        "\n",
        "it_companies = [\"Facebook\", \"Google\", \"Microsoft\", \"Apple\", \"IBM\", \"Oracle\", \"Amazon\", ]\n",
        "joined_companies = \"#;  \".join(it_companies)\n",
        "print(joined_companies)"
      ]
    },
    {
      "cell_type": "code",
      "source": [
        "it_companies = [\"Facebook\", \"Google\", \"Microsoft\", \"Apple\", \"IBM\", \"Oracle\", \"Amazon\", ]\n",
        "new_list = '#; '.join(it_companies)\n",
        "print(new_list)\n"
      ],
      "metadata": {
        "colab": {
          "base_uri": "https://localhost:8080/"
        },
        "id": "MZiT46Ndj_IL",
        "outputId": "e2aff0ff-2645-46c4-a82f-0762008aae0e"
      },
      "id": "MZiT46Ndj_IL",
      "execution_count": null,
      "outputs": [
        {
          "output_type": "stream",
          "name": "stdout",
          "text": [
            "Facebook#; Google#; Microsoft#; Apple#; IBM#; Oracle#; Amazon\n"
          ]
        }
      ]
    },
    {
      "cell_type": "code",
      "execution_count": null,
      "id": "4d802201-c446-4046-a6b6-233db777fc23",
      "metadata": {
        "id": "4d802201-c446-4046-a6b6-233db777fc23",
        "colab": {
          "base_uri": "https://localhost:8080/"
        },
        "outputId": "961a956f-eb1c-41f5-932a-d33618ea9fca"
      },
      "outputs": [
        {
          "output_type": "stream",
          "name": "stdout",
          "text": [
            "Amazon exist in the list.\n"
          ]
        }
      ],
      "source": [
        "# 15. Check if a certain company exists in the it_companies list.\n",
        "it_companies = [\"Facebook\", \"Google\", \"Microsoft\", \"Apple\", \"IBM\", \"Oracle\", \"Amazon\"]\n",
        "\n",
        "company_to_check = \"Amazon\"\n",
        "if company_to_check in it_companies:\n",
        "  print(f\"{company_to_check} exist in the list.\")\n",
        "else:\n",
        "  print(f\"{company_to_check} doesn't exist in the list\")\n"
      ]
    },
    {
      "cell_type": "code",
      "execution_count": null,
      "id": "314aee47-adca-4c4e-b8c7-8185cc8e1fd7",
      "metadata": {
        "id": "314aee47-adca-4c4e-b8c7-8185cc8e1fd7",
        "colab": {
          "base_uri": "https://localhost:8080/"
        },
        "outputId": "e8a3dab3-c545-423f-9a45-36b339395550"
      },
      "outputs": [
        {
          "output_type": "stream",
          "name": "stdout",
          "text": [
            "['Amazon', 'Apple', 'Facebook', 'Google', 'IBM', 'Microsoft', 'Oracle']\n"
          ]
        }
      ],
      "source": [
        "# 16. Sort the list using sort() method\n",
        "\n",
        "it_companies = [\"Facebook\", \"Google\", \"Microsoft\", \"Apple\", \"IBM\", \"Oracle\", \"Amazon\"]\n",
        "it_companies.sort()\n",
        "print(it_companies)\n"
      ]
    },
    {
      "cell_type": "code",
      "execution_count": null,
      "id": "a95fb5fd-8797-4cd5-ba17-215f0e5d2946",
      "metadata": {
        "id": "a95fb5fd-8797-4cd5-ba17-215f0e5d2946",
        "colab": {
          "base_uri": "https://localhost:8080/"
        },
        "outputId": "5981a699-6664-4bf5-ea30-448859d21f2b"
      },
      "outputs": [
        {
          "output_type": "stream",
          "name": "stdout",
          "text": [
            "['Oracle', 'Microsoft', 'IBM', 'Google', 'Facebook', 'Apple', 'Amazon']\n"
          ]
        }
      ],
      "source": [
        "# 17. Reverse the list in descending order using reverse() method\n",
        "it_companies = ['Amazon', 'Apple', 'Facebook', 'Google', 'IBM', 'Microsoft', 'Oracle']\n",
        "it_companies.reverse()\n",
        "print(it_companies)"
      ]
    },
    {
      "cell_type": "code",
      "execution_count": null,
      "id": "0d3fd2d7-37e4-41e1-92cd-36fb3456f5ee",
      "metadata": {
        "id": "0d3fd2d7-37e4-41e1-92cd-36fb3456f5ee",
        "colab": {
          "base_uri": "https://localhost:8080/"
        },
        "outputId": "3ca4c2fa-728c-4a1d-9a4e-2c93177cf28a"
      },
      "outputs": [
        {
          "output_type": "stream",
          "name": "stdout",
          "text": [
            "['Oracle', 'Microsoft', 'IBM']\n"
          ]
        }
      ],
      "source": [
        "# 18. Slice out the first 3 companies from the list\n",
        "it_companies = ['Oracle', 'Microsoft', 'IBM', 'Google', 'Facebook', 'Apple', 'Amazon']\n",
        "first_three = it_companies[:3]\n",
        "print(first_three)\n"
      ]
    },
    {
      "cell_type": "code",
      "execution_count": null,
      "id": "ecba15b6-2f59-4632-8b4a-67545f5761dd",
      "metadata": {
        "id": "ecba15b6-2f59-4632-8b4a-67545f5761dd",
        "colab": {
          "base_uri": "https://localhost:8080/"
        },
        "outputId": "bf2375dd-0564-4118-f4a3-d23d62053630"
      },
      "outputs": [
        {
          "output_type": "stream",
          "name": "stdout",
          "text": [
            "['Facebook', 'Apple', 'Amazon']\n"
          ]
        }
      ],
      "source": [
        "# 19. Slice out the last 3 companies from the list\n",
        "it_companies = ['Oracle', 'Microsoft', 'IBM', 'Google', 'Facebook', 'Apple', 'Amazon']\n",
        "last_three = it_companies[-3:]\n",
        "print(last_three)"
      ]
    },
    {
      "cell_type": "code",
      "execution_count": null,
      "id": "189ba7e4-c6f1-4f25-b978-39d66e0ce7f8",
      "metadata": {
        "id": "189ba7e4-c6f1-4f25-b978-39d66e0ce7f8",
        "colab": {
          "base_uri": "https://localhost:8080/"
        },
        "outputId": "e47b5453-825a-45a4-b15f-ddedded3b568"
      },
      "outputs": [
        {
          "output_type": "stream",
          "name": "stdout",
          "text": [
            "['Google']\n"
          ]
        }
      ],
      "source": [
        "# 20. Slice out the middle IT company or companies from the list\n",
        "it_companies = ['Oracle', 'Microsoft', 'IBM', 'Google', 'Facebook', 'Apple', 'Amazon']\n",
        "length = len(it_companies)\n",
        "mid = length//2\n",
        "if length % 2 == 0:\n",
        "  middle = it_companies[mid-1:mid+1]\n",
        "else:\n",
        "  middle = [it_companies[mid]]\n",
        "print(middle)\n"
      ]
    },
    {
      "cell_type": "code",
      "source": [
        "it_companies = ['Oracle', 'Microsoft', 'IBM', 'Google', 'Facebook', 'Apple', 'Amazon']\n",
        "it_companies[len(it_companies)//2]\n"
      ],
      "metadata": {
        "colab": {
          "base_uri": "https://localhost:8080/",
          "height": 36
        },
        "id": "bjsNrJKslBnB",
        "outputId": "8c7237b3-004e-4bee-abc6-348060feee73"
      },
      "id": "bjsNrJKslBnB",
      "execution_count": null,
      "outputs": [
        {
          "output_type": "execute_result",
          "data": {
            "text/plain": [
              "'Google'"
            ],
            "application/vnd.google.colaboratory.intrinsic+json": {
              "type": "string"
            }
          },
          "metadata": {},
          "execution_count": 13
        }
      ]
    },
    {
      "cell_type": "code",
      "execution_count": null,
      "id": "f08fe2ae-89f7-43b5-94f2-d4df57ec8ddd",
      "metadata": {
        "id": "f08fe2ae-89f7-43b5-94f2-d4df57ec8ddd",
        "colab": {
          "base_uri": "https://localhost:8080/"
        },
        "outputId": "289b050d-6e2f-470f-9b40-53c539fa6177"
      },
      "outputs": [
        {
          "output_type": "stream",
          "name": "stdout",
          "text": [
            "['Microsoft', 'IBM', 'Google', 'Facebook', 'Apple', 'Amazon']\n"
          ]
        }
      ],
      "source": [
        "# 21. Remove the first IT company from the list\n",
        "\n",
        "it_companies = ['Oracle', 'Microsoft', 'IBM', 'Google', 'Facebook', 'Apple', 'Amazon']\n",
        "it_companies.pop(0)\n",
        "print(it_companies)\n"
      ]
    },
    {
      "cell_type": "code",
      "execution_count": null,
      "id": "a06e1918-dfac-4be1-9aea-faab50101878",
      "metadata": {
        "id": "a06e1918-dfac-4be1-9aea-faab50101878",
        "colab": {
          "base_uri": "https://localhost:8080/"
        },
        "outputId": "4c0eb712-27f8-48fe-ec58-6202e668e297"
      },
      "outputs": [
        {
          "output_type": "stream",
          "name": "stdout",
          "text": [
            "['Oracle', 'Microsoft', 'IBM', 'Facebook', 'Apple', 'Amazon']\n"
          ]
        }
      ],
      "source": [
        "# 22. Remove the middle IT company or companies from the list\n",
        "it_companies = ['Oracle', 'Microsoft', 'IBM', 'Google', 'Facebook', 'Apple', 'Amazon']\n",
        "length = len(it_companies)\n",
        "midd = length // 2\n",
        "if length//2 == 0:\n",
        "  del it_companies[midd-1:midd+1]\n",
        "else:\n",
        "  del it_companies[midd]\n",
        "print(it_companies)\n"
      ]
    },
    {
      "cell_type": "code",
      "execution_count": null,
      "id": "ad8da79d-0d3e-4028-89d7-0e44f7921bbe",
      "metadata": {
        "id": "ad8da79d-0d3e-4028-89d7-0e44f7921bbe",
        "colab": {
          "base_uri": "https://localhost:8080/"
        },
        "outputId": "3ab791b2-c4c0-40f2-89e4-99661fb29033"
      },
      "outputs": [
        {
          "output_type": "stream",
          "name": "stdout",
          "text": [
            "['Oracle', 'Microsoft', 'IBM', 'Google', 'Facebook', 'Apple']\n"
          ]
        }
      ],
      "source": [
        "# 23. Remove the last IT company from the list\n",
        "it_companies = ['Oracle', 'Microsoft', 'IBM', 'Google', 'Facebook', 'Apple', 'Amazon']\n",
        "it_companies.pop(-1)\n",
        "print(it_companies)"
      ]
    },
    {
      "cell_type": "code",
      "execution_count": null,
      "id": "75a4e29f-3d99-46d8-874a-7dfdb322f0b1",
      "metadata": {
        "id": "75a4e29f-3d99-46d8-874a-7dfdb322f0b1",
        "colab": {
          "base_uri": "https://localhost:8080/"
        },
        "outputId": "c772d5fa-9c41-493b-f389-29e6ed1ad102"
      },
      "outputs": [
        {
          "output_type": "stream",
          "name": "stdout",
          "text": [
            "[]\n"
          ]
        }
      ],
      "source": [
        "# 24. Remove all IT companies from the list\n",
        "it_companies = ['Oracle', 'Microsoft', 'IBM', 'Google', 'Facebook', 'Apple', 'Amazon']\n",
        "it_companies.clear()\n",
        "print(it_companies)"
      ]
    },
    {
      "cell_type": "code",
      "execution_count": null,
      "id": "ead6d534-e733-465b-942f-bad54efa4b0e",
      "metadata": {
        "id": "ead6d534-e733-465b-942f-bad54efa4b0e",
        "colab": {
          "base_uri": "https://localhost:8080/",
          "height": 183
        },
        "outputId": "104604e0-5918-4711-9480-7c20303a0f67"
      },
      "outputs": [
        {
          "output_type": "error",
          "ename": "NameError",
          "evalue": "name 'it_companies' is not defined",
          "traceback": [
            "\u001b[0;31m---------------------------------------------------------------------------\u001b[0m",
            "\u001b[0;31mNameError\u001b[0m                                 Traceback (most recent call last)",
            "\u001b[0;32m/tmp/ipython-input-789043573.py\u001b[0m in \u001b[0;36m<cell line: 0>\u001b[0;34m()\u001b[0m\n\u001b[1;32m      2\u001b[0m \u001b[0mit_companies\u001b[0m \u001b[0;34m=\u001b[0m \u001b[0;34m[\u001b[0m\u001b[0;34m'Oracle'\u001b[0m\u001b[0;34m,\u001b[0m \u001b[0;34m'Microsoft'\u001b[0m\u001b[0;34m,\u001b[0m \u001b[0;34m'IBM'\u001b[0m\u001b[0;34m,\u001b[0m \u001b[0;34m'Google'\u001b[0m\u001b[0;34m,\u001b[0m \u001b[0;34m'Facebook'\u001b[0m\u001b[0;34m,\u001b[0m \u001b[0;34m'Apple'\u001b[0m\u001b[0;34m,\u001b[0m \u001b[0;34m'Amazon'\u001b[0m\u001b[0;34m]\u001b[0m\u001b[0;34m\u001b[0m\u001b[0;34m\u001b[0m\u001b[0m\n\u001b[1;32m      3\u001b[0m \u001b[0;32mdel\u001b[0m \u001b[0mit_companies\u001b[0m\u001b[0;34m\u001b[0m\u001b[0;34m\u001b[0m\u001b[0m\n\u001b[0;32m----> 4\u001b[0;31m \u001b[0mprint\u001b[0m\u001b[0;34m(\u001b[0m\u001b[0mit_companies\u001b[0m\u001b[0;34m)\u001b[0m\u001b[0;34m\u001b[0m\u001b[0;34m\u001b[0m\u001b[0m\n\u001b[0m",
            "\u001b[0;31mNameError\u001b[0m: name 'it_companies' is not defined"
          ]
        }
      ],
      "source": [
        "# 25. Destroy the IT companies list\n",
        "it_companies = ['Oracle', 'Microsoft', 'IBM', 'Google', 'Facebook', 'Apple', 'Amazon']\n",
        "del it_companies\n",
        "print(it_companies)\n"
      ]
    },
    {
      "cell_type": "code",
      "execution_count": null,
      "id": "16fbc7a5-14b8-4388-9df0-4922ff5231ca",
      "metadata": {
        "id": "16fbc7a5-14b8-4388-9df0-4922ff5231ca",
        "colab": {
          "base_uri": "https://localhost:8080/"
        },
        "outputId": "ca539cb9-5209-4ad1-eebf-a3d12c129134"
      },
      "outputs": [
        {
          "output_type": "stream",
          "name": "stdout",
          "text": [
            "['HTML', 'CSS', 'JS', 'React', 'Redux', 'Node', 'Express', 'MongoDB']\n"
          ]
        }
      ],
      "source": [
        "# 26. Join the following lists:\n",
        "# front_end = ['HTML', 'CSS', 'JS', 'React', 'Redux']\n",
        "# back_end = ['Node','Express', 'MongoDB']\n",
        "front_end = ['HTML', 'CSS', 'JS', 'React', 'Redux']\n",
        "back_end = ['Node','Express', 'MongoDB']\n",
        "joined_companies = front_end + back_end\n",
        "print(joined_companies)"
      ]
    },
    {
      "cell_type": "code",
      "execution_count": null,
      "id": "02cf8864-25b0-42bd-bfbf-53c1e38dcf41",
      "metadata": {
        "id": "02cf8864-25b0-42bd-bfbf-53c1e38dcf41",
        "colab": {
          "base_uri": "https://localhost:8080/"
        },
        "outputId": "c25eaa76-4d7f-4fc6-be00-f1aa836e4207"
      },
      "outputs": [
        {
          "output_type": "stream",
          "name": "stdout",
          "text": [
            "['HTML', 'CSS', 'JS', 'React', 'Redux', 'python', 'SQL', 'Node', 'Express', 'MongoDB']\n"
          ]
        }
      ],
      "source": [
        "_# 27. After joining the lists in question 26. Copy the joined list and assign it to a\n",
        "# variable full_stack, then insert Python and SQL after Redux.\n",
        "joined_comapanies = ['HTML', 'CSS', 'JS', 'React', 'Redux', 'Node', 'Express', 'MongoDB']\n",
        "full_stack = joined_companies\n",
        "#fimd the index of redux\n",
        "index_redux = full_stack.index(\"Redux\")\n",
        "full_stack.insert(index_redux + 1, \"python\")\n",
        "full_stack.insert(index_redux + 2, \"SQL\")\n",
        "print(full_stack)\n"
      ]
    },
    {
      "cell_type": "markdown",
      "id": "2aebfb74-bcd3-4298-af1b-22f50e3e4e0b",
      "metadata": {
        "id": "2aebfb74-bcd3-4298-af1b-22f50e3e4e0b"
      },
      "source": [
        "#Second Set Assignment"
      ]
    },
    {
      "cell_type": "markdown",
      "id": "721c5cbb-e13b-46ee-a515-8d117b29f18e",
      "metadata": {
        "id": "721c5cbb-e13b-46ee-a515-8d117b29f18e"
      },
      "source": [
        "The following is a list of 10 students ages:\n",
        "ages = [19, 22, 19, 24, 20, 25, 26, 24, 25, 24]"
      ]
    },
    {
      "cell_type": "code",
      "execution_count": null,
      "id": "dd4ae415-b498-4f6d-8f23-3ca39f589cbf",
      "metadata": {
        "id": "dd4ae415-b498-4f6d-8f23-3ca39f589cbf",
        "colab": {
          "base_uri": "https://localhost:8080/"
        },
        "outputId": "90934693-3e87-404b-ccc8-cd3460dccf37"
      },
      "outputs": [
        {
          "output_type": "stream",
          "name": "stdout",
          "text": [
            "1. sorted ages  [19, 19, 20, 22, 24, 24, 24, 25, 25, 26]\n",
            "2. minimum age  19\n",
            "3. maximum age  26\n"
          ]
        }
      ],
      "source": [
        "# Sort the list and find the min and max age\n",
        "\n",
        "ages = [19, 22, 19, 24, 20, 25, 26, 24, 25, 24]\n",
        "1. #sort the list\n",
        "ages.sort()\n",
        "print(\"1. sorted ages \", ages)\n",
        "\n",
        "2. #minimum age\n",
        "min_age = min(ages)\n",
        "print( \"2. minimum age \", min_age)\n",
        "\n",
        "3.#maximum age\n",
        "max_age = max(ages)\n",
        "print(\"3. maximum age \", max_age)"
      ]
    },
    {
      "cell_type": "code",
      "execution_count": null,
      "id": "200adfd6-3cd7-4a06-908a-7fb883b18409",
      "metadata": {
        "id": "200adfd6-3cd7-4a06-908a-7fb883b18409",
        "colab": {
          "base_uri": "https://localhost:8080/"
        },
        "outputId": "d93c77ff-4952-4866-caa2-05ec207acbac"
      },
      "outputs": [
        {
          "output_type": "stream",
          "name": "stdout",
          "text": [
            "[19, 19, 20, 22, 24, 24, 24, 25, 25, 26, 19, 26]\n"
          ]
        }
      ],
      "source": [
        "# Add the min age and the max age again to the list\n",
        "ages = [19, 19, 20, 22, 24, 24, 24, 25, 25, 26]\n",
        "minimum_age = 19\n",
        "maximum_age = 26\n",
        "ages.append(minimum_age)\n",
        "ages.append(maximum_age)\n",
        "print(ages)"
      ]
    },
    {
      "cell_type": "code",
      "execution_count": null,
      "id": "59ec9452-ee61-4ec4-941c-9bd9f61c45ac",
      "metadata": {
        "id": "59ec9452-ee61-4ec4-941c-9bd9f61c45ac",
        "colab": {
          "base_uri": "https://localhost:8080/"
        },
        "outputId": "aeb76607-f3f7-4cb9-b657-85c56b8780e5"
      },
      "outputs": [
        {
          "output_type": "stream",
          "name": "stdout",
          "text": [
            "midean is 24\n"
          ]
        }
      ],
      "source": [
        "# Find the median age (one middle item or two middle items divided by two)\n",
        "ages = [19, 19, 20, 22, 24, 24, 24, 25, 25, 26]\n",
        "n = len(ages)\n",
        "mid1 = ages[n//2-1]\n",
        "mid2 = ages[n//2]\n",
        "midean =(mid1 + mid2) //2\n",
        "print(\"midean is\", midean)"
      ]
    },
    {
      "cell_type": "code",
      "execution_count": null,
      "id": "f55f973e-f02c-4806-b4f7-4ebb30256523",
      "metadata": {
        "id": "f55f973e-f02c-4806-b4f7-4ebb30256523",
        "colab": {
          "base_uri": "https://localhost:8080/",
          "height": 219
        },
        "outputId": "2e0462e6-0e6e-4b58-ea59-c1e92dd4aa0f"
      },
      "outputs": [
        {
          "output_type": "error",
          "ename": "TypeError",
          "evalue": "'int' object is not callable",
          "traceback": [
            "\u001b[0;31m---------------------------------------------------------------------------\u001b[0m",
            "\u001b[0;31mTypeError\u001b[0m                                 Traceback (most recent call last)",
            "\u001b[0;32m/tmp/ipython-input-1759972856.py\u001b[0m in \u001b[0;36m<cell line: 0>\u001b[0;34m()\u001b[0m\n\u001b[1;32m      1\u001b[0m \u001b[0;31m# Find the average age (sum of all items divided by their number )\u001b[0m\u001b[0;34m\u001b[0m\u001b[0;34m\u001b[0m\u001b[0m\n\u001b[1;32m      2\u001b[0m \u001b[0mages\u001b[0m \u001b[0;34m=\u001b[0m \u001b[0;34m[\u001b[0m\u001b[0;36m19\u001b[0m\u001b[0;34m,\u001b[0m \u001b[0;36m19\u001b[0m\u001b[0;34m,\u001b[0m \u001b[0;36m20\u001b[0m\u001b[0;34m,\u001b[0m \u001b[0;36m22\u001b[0m\u001b[0;34m,\u001b[0m \u001b[0;36m24\u001b[0m\u001b[0;34m,\u001b[0m \u001b[0;36m24\u001b[0m\u001b[0;34m,\u001b[0m \u001b[0;36m24\u001b[0m\u001b[0;34m,\u001b[0m \u001b[0;36m25\u001b[0m\u001b[0;34m,\u001b[0m \u001b[0;36m25\u001b[0m\u001b[0;34m,\u001b[0m \u001b[0;36m26\u001b[0m\u001b[0;34m]\u001b[0m\u001b[0;34m\u001b[0m\u001b[0;34m\u001b[0m\u001b[0m\n\u001b[0;32m----> 3\u001b[0;31m \u001b[0msum\u001b[0m \u001b[0;34m=\u001b[0m \u001b[0msum\u001b[0m\u001b[0;34m(\u001b[0m\u001b[0mages\u001b[0m\u001b[0;34m)\u001b[0m\u001b[0;34m\u001b[0m\u001b[0;34m\u001b[0m\u001b[0m\n\u001b[0m\u001b[1;32m      4\u001b[0m \u001b[0mcount\u001b[0m \u001b[0;34m=\u001b[0m \u001b[0mlen\u001b[0m\u001b[0;34m(\u001b[0m\u001b[0mages\u001b[0m\u001b[0;34m)\u001b[0m\u001b[0;34m\u001b[0m\u001b[0;34m\u001b[0m\u001b[0m\n\u001b[1;32m      5\u001b[0m \u001b[0maverage\u001b[0m \u001b[0;34m=\u001b[0m \u001b[0msum\u001b[0m\u001b[0;34m//\u001b[0m\u001b[0mcount\u001b[0m\u001b[0;34m\u001b[0m\u001b[0;34m\u001b[0m\u001b[0m\n",
            "\u001b[0;31mTypeError\u001b[0m: 'int' object is not callable"
          ]
        }
      ],
      "source": [
        "# Find the average age (sum of all items divided by their number )\n",
        "ages = [19, 19, 20, 22, 24, 24, 24, 25, 25, 26]\n",
        "sum = sum(ages)\n",
        "count = len(ages)\n",
        "average = sum//count\n",
        "print(average)"
      ]
    },
    {
      "cell_type": "code",
      "execution_count": null,
      "id": "b1cc3a2d-eecc-430e-b210-9605ec042cd0",
      "metadata": {
        "id": "b1cc3a2d-eecc-430e-b210-9605ec042cd0",
        "colab": {
          "base_uri": "https://localhost:8080/"
        },
        "outputId": "5113fa23-e1dc-4328-ca8e-09790ed9fe11"
      },
      "outputs": [
        {
          "output_type": "stream",
          "name": "stdout",
          "text": [
            "7\n"
          ]
        }
      ],
      "source": [
        "# Find the range of the ages (max minus min)\n",
        "ages = [19, 19, 20, 22, 24, 24, 24, 25, 25, 26]\n",
        "max_age = max(ages)\n",
        "min_age = min(ages)\n",
        "range_of_the_age = max_age - min_age"
      ]
    },
    {
      "cell_type": "code",
      "execution_count": null,
      "id": "ebd8f1f3-7051-453b-9de0-202c7054a7fb",
      "metadata": {
        "id": "ebd8f1f3-7051-453b-9de0-202c7054a7fb",
        "colab": {
          "base_uri": "https://localhost:8080/",
          "height": 219
        },
        "outputId": "57e1b42f-fcd3-4153-b214-7cd10c9567fd"
      },
      "outputs": [
        {
          "output_type": "error",
          "ename": "TypeError",
          "evalue": "'int' object is not callable",
          "traceback": [
            "\u001b[0;31m---------------------------------------------------------------------------\u001b[0m",
            "\u001b[0;31mTypeError\u001b[0m                                 Traceback (most recent call last)",
            "\u001b[0;32m/tmp/ipython-input-2946744077.py\u001b[0m in \u001b[0;36m<cell line: 0>\u001b[0;34m()\u001b[0m\n\u001b[1;32m      1\u001b[0m \u001b[0;31m# Compare the value of (min - average) and (max - average), use abs() method\u001b[0m\u001b[0;34m\u001b[0m\u001b[0;34m\u001b[0m\u001b[0m\n\u001b[1;32m      2\u001b[0m \u001b[0mages\u001b[0m \u001b[0;34m=\u001b[0m \u001b[0;34m[\u001b[0m\u001b[0;36m19\u001b[0m\u001b[0;34m,\u001b[0m \u001b[0;36m19\u001b[0m\u001b[0;34m,\u001b[0m \u001b[0;36m20\u001b[0m\u001b[0;34m,\u001b[0m \u001b[0;36m22\u001b[0m\u001b[0;34m,\u001b[0m \u001b[0;36m24\u001b[0m\u001b[0;34m,\u001b[0m \u001b[0;36m24\u001b[0m\u001b[0;34m,\u001b[0m \u001b[0;36m24\u001b[0m\u001b[0;34m,\u001b[0m \u001b[0;36m25\u001b[0m\u001b[0;34m,\u001b[0m \u001b[0;36m25\u001b[0m\u001b[0;34m,\u001b[0m \u001b[0;36m26\u001b[0m\u001b[0;34m]\u001b[0m\u001b[0;34m\u001b[0m\u001b[0;34m\u001b[0m\u001b[0m\n\u001b[0;32m----> 3\u001b[0;31m \u001b[0msum\u001b[0m \u001b[0;34m=\u001b[0m \u001b[0msum\u001b[0m\u001b[0;34m(\u001b[0m\u001b[0mages\u001b[0m\u001b[0;34m)\u001b[0m\u001b[0;34m\u001b[0m\u001b[0;34m\u001b[0m\u001b[0m\n\u001b[0m\u001b[1;32m      4\u001b[0m \u001b[0mcount\u001b[0m \u001b[0;34m=\u001b[0m \u001b[0mlen\u001b[0m\u001b[0;34m(\u001b[0m\u001b[0mages\u001b[0m\u001b[0;34m)\u001b[0m\u001b[0;34m\u001b[0m\u001b[0;34m\u001b[0m\u001b[0m\n\u001b[1;32m      5\u001b[0m \u001b[0mmin_age\u001b[0m \u001b[0;34m=\u001b[0m \u001b[0mmin\u001b[0m\u001b[0;34m(\u001b[0m\u001b[0mages\u001b[0m\u001b[0;34m)\u001b[0m\u001b[0;34m\u001b[0m\u001b[0;34m\u001b[0m\u001b[0m\n",
            "\u001b[0;31mTypeError\u001b[0m: 'int' object is not callable"
          ]
        }
      ],
      "source": [
        "# Compare the value of (min - average) and (max - average), use abs() method\n",
        "ages = [19, 19, 20, 22, 24, 24, 24, 25, 25, 26]\n",
        "sum = sum(ages)\n",
        "count = len(ages)\n",
        "min_age = min(ages)\n",
        "max_age = max(ages)\n",
        "average_age = sum/count\n",
        "diff_min = abs(min_age - average_age)\n",
        "diff_max = abs(max_age - average_Age)\n",
        "pirnt(\"max average is \", diff_max)\n",
        "print(\"min average is \", diff_min)\n"
      ]
    },
    {
      "cell_type": "code",
      "execution_count": null,
      "id": "248391f0-f822-40a3-b15c-79ce28b3abdf",
      "metadata": {
        "id": "248391f0-f822-40a3-b15c-79ce28b3abdf",
        "colab": {
          "base_uri": "https://localhost:8080/",
          "height": 36
        },
        "outputId": "147f48f6-8745-42e5-9997-861d3ec875c6"
      },
      "outputs": [
        {
          "output_type": "execute_result",
          "data": {
            "text/plain": [
              "'Japan'"
            ],
            "application/vnd.google.colaboratory.intrinsic+json": {
              "type": "string"
            }
          },
          "metadata": {},
          "execution_count": 17
        }
      ],
      "source": [
        "# Find the middle country(ies) in the countries list\n",
        "countries = [\"USA\", \"France\", \"China\", \"Japan\", \"India\", \"Singapore\"]\n",
        "countries[len(countries)//2]"
      ]
    },
    {
      "cell_type": "code",
      "execution_count": null,
      "id": "450b75c9-6cd9-4cc0-9fb8-fde52c6de453",
      "metadata": {
        "id": "450b75c9-6cd9-4cc0-9fb8-fde52c6de453"
      },
      "outputs": [],
      "source": [
        "# Divide the countries list into two equal lists if it is even if not one more country for the first half."
      ]
    },
    {
      "cell_type": "code",
      "execution_count": null,
      "id": "f271cd7c-dd09-4eb8-9226-da68d5a289b2",
      "metadata": {
        "id": "f271cd7c-dd09-4eb8-9226-da68d5a289b2"
      },
      "outputs": [],
      "source": [
        "# ['China', 'Russia', 'USA', 'Finland', 'Sweden', 'Norway', 'Denmark']. Unpack the\n",
        "# first three countries and the rest as scandic countries.\n",
        "countries = ['China', 'Russia', 'USA', 'Finland', 'Sweden', 'Norway', 'Denmark']\n"
      ]
    },
    {
      "cell_type": "code",
      "source": [],
      "metadata": {
        "id": "Ln0mQFirnMs0"
      },
      "id": "Ln0mQFirnMs0",
      "execution_count": null,
      "outputs": []
    }
  ],
  "metadata": {
    "kernelspec": {
      "display_name": "Python 3 (ipykernel)",
      "language": "python",
      "name": "python3"
    },
    "language_info": {
      "codemirror_mode": {
        "name": "ipython",
        "version": 3
      },
      "file_extension": ".py",
      "mimetype": "text/x-python",
      "name": "python",
      "nbconvert_exporter": "python",
      "pygments_lexer": "ipython3",
      "version": "3.12.7"
    },
    "colab": {
      "provenance": []
    }
  },
  "nbformat": 4,
  "nbformat_minor": 5
}